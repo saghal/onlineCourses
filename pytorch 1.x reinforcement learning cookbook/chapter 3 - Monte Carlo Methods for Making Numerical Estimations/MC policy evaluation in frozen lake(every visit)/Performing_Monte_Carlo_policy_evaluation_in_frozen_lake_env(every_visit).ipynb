{
  "nbformat": 4,
  "nbformat_minor": 0,
  "metadata": {
    "colab": {
      "name": "Performing Monte Carlo policy evaluation in frozen lake env(every visit).ipynb",
      "provenance": [],
      "collapsed_sections": []
    },
    "kernelspec": {
      "display_name": "Python 3",
      "language": "python",
      "name": "python3"
    },
    "language_info": {
      "codemirror_mode": {
        "name": "ipython",
        "version": 3
      },
      "file_extension": ".py",
      "mimetype": "text/x-python",
      "name": "python",
      "nbconvert_exporter": "python",
      "pygments_lexer": "ipython3",
      "version": "3.8.3"
    }
  },
  "cells": [
    {
      "cell_type": "markdown",
      "source": [
        "# Import the necessary modules "
      ],
      "metadata": {
        "id": "GpyLXJUN8d_s"
      }
    },
    {
      "cell_type": "code",
      "source": [
        "import torch\n",
        "import gym\n",
        "env = gym.make(\"FrozenLake-v0\")"
      ],
      "metadata": {
        "id": "E5sO4vNT8ZAZ"
      },
      "execution_count": 1,
      "outputs": []
    },
    {
      "cell_type": "code",
      "source": [
        "def run_episode(env, policy):\n",
        "  state = env.reset()\n",
        "  rewards = []\n",
        "  states = [state]\n",
        "  is_done = False\n",
        "  while not is_done:\n",
        "    action = policy[state].item()\n",
        "    state, reward, is_done, info = env.step(action)\n",
        "    states.append(state)\n",
        "    rewards.append(reward)\n",
        "    if is_done:\n",
        "      break\n",
        "  states = torch.tensor(states)\n",
        "  rewards = torch.tensor(rewards)\n",
        "  return states, rewards"
      ],
      "metadata": {
        "id": "dB4JBAAo-SP1"
      },
      "execution_count": 2,
      "outputs": []
    },
    {
      "cell_type": "code",
      "source": [
        "def mc_prediction_every_visit(env, policy, gamma, n_episode):\n",
        "  n_state = policy.shape[0]\n",
        "  V = torch.zeros(n_state)\n",
        "  N = torch.zeros(n_state)\n",
        "  G = torch.zeros(n_state)\n",
        "  for episode in range(n_episode):\n",
        "    states_t, rewards_t = run_episode(env, policy)\n",
        "    return_t = 0\n",
        "    for state_t, reward_t in zip(reversed(states_t)[1:], reversed(rewards_t)):\n",
        "      return_t = gamma * return_t + reward_t\n",
        "      G[state_t] += return_t\n",
        "      N[state_t] += 1\n",
        "  for state in range(n_state):\n",
        "    if N[state] > 0:\n",
        "      V[state] = G[state] / N[state]\n",
        "  return V"
      ],
      "metadata": {
        "id": "LkpEspkLQnIQ"
      },
      "execution_count": 3,
      "outputs": []
    },
    {
      "cell_type": "code",
      "source": [
        "gamma = 1\n",
        "n_episode = 10000\n",
        "optimal_policy = torch.tensor([0., 3., 3., 3., 0., 3., 2., 3., 3., 1., 0., 3., 3., 2., 1., 3.])\n",
        "value = mc_prediction_every_visit(env, optimal_policy, gamma, n_episode)\n",
        "print('The value function calculated by every-visit MC prediction:\\n', value)"
      ],
      "metadata": {
        "colab": {
          "base_uri": "https://localhost:8080/"
        },
        "id": "rZ_kN0K4SBs2",
        "outputId": "30af1f66-c725-437b-a2c3-ed4abbceaeaa"
      },
      "execution_count": 4,
      "outputs": [
        {
          "output_type": "stream",
          "name": "stdout",
          "text": [
            "The value function calculated by every-visit MC prediction:\n",
            " tensor([0.6185, 0.4424, 0.4015, 0.3700, 0.6226, 0.0000, 0.3692, 0.0000, 0.6446,\n",
            "        0.6788, 0.6383, 0.0000, 0.0000, 0.7642, 0.8767, 0.0000])\n"
          ]
        }
      ]
    }
  ]
}