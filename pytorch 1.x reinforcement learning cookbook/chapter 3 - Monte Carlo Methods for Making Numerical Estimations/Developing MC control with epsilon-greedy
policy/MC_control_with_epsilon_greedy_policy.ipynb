{
  "nbformat": 4,
  "nbformat_minor": 0,
  "metadata": {
    "colab": {
      "name": "MC control with epsilon-greedy policy.ipynb",
      "provenance": [],
      "collapsed_sections": []
    },
    "kernelspec": {
      "display_name": "Python 3",
      "language": "python",
      "name": "python3"
    },
    "language_info": {
      "codemirror_mode": {
        "name": "ipython",
        "version": 3
      },
      "file_extension": ".py",
      "mimetype": "text/x-python",
      "name": "python",
      "nbconvert_exporter": "python",
      "pygments_lexer": "ipython3",
      "version": "3.8.3"
    }
  },
  "cells": [
    {
      "cell_type": "markdown",
      "source": [
        "# Import the necessary modules "
      ],
      "metadata": {
        "id": "GpyLXJUN8d_s"
      }
    },
    {
      "cell_type": "code",
      "source": [
        "import torch\n",
        "import gym\n",
        "from collections import defaultdict\n",
        "import matplotlib\n",
        "import matplotlib.pyplot as plt\n",
        "from mpl_toolkits.mplot3d import Axes3D\n",
        "env = gym.make('Blackjack-v0')"
      ],
      "metadata": {
        "id": "E5sO4vNT8ZAZ"
      },
      "execution_count": 1,
      "outputs": []
    },
    {
      "cell_type": "markdown",
      "source": [
        "use on-policy for choosing action"
      ],
      "metadata": {
        "id": "aQBbD8CRKiv_"
      }
    },
    {
      "cell_type": "code",
      "source": [
        "def run_episode(env, Q, epsilon, n_action):\n",
        "  state = env.reset()\n",
        "  rewards = []\n",
        "  actions = []\n",
        "  states = []\n",
        "  is_done = False\n",
        "  while not is_done:\n",
        "    probs = torch.ones(n_action) * epsilon / n_action\n",
        "    best_action = torch.argmax(Q[state]).item()\n",
        "    probs[best_action] += 1.0 - epsilon\n",
        "    action = torch.multinomial(probs, 1).item()\n",
        "    actions.append(action)\n",
        "    states.append(state)\n",
        "    state, reward, is_done, info = env.step(action)\n",
        "    rewards.append(reward)\n",
        "    if is_done:\n",
        "      break\n",
        "  return states, actions, rewards"
      ],
      "metadata": {
        "id": "dB4JBAAo-SP1"
      },
      "execution_count": 2,
      "outputs": []
    },
    {
      "cell_type": "code",
      "source": [
        "def mc_control_epsilon_greedy(env, gamma, n_episode, epsilon):\n",
        "  n_action = env.action_space.n\n",
        "  G_sum = defaultdict(float)\n",
        "  N = defaultdict(int)\n",
        "  Q = defaultdict(lambda: torch.empty(n_action))\n",
        "  for episode in range(n_episode):\n",
        "    states_t, actions_t, rewards_t = run_episode(env, Q, epsilon, n_action)\n",
        "    return_t = 0\n",
        "    G = {}\n",
        "    for state_t, action_t, reward_t in zip(states_t[::-1], actions_t[::-1], rewards_t[::-1]):\n",
        "      return_t = gamma * return_t + reward_t\n",
        "      G[(state_t, action_t)] = return_t\n",
        "    for state_action, return_t in G.items():\n",
        "      state, action = state_action\n",
        "      if state[0] <= 21:\n",
        "        G_sum[state_action] += return_t\n",
        "        N[state_action] += 1\n",
        "        Q[state][action] = G_sum[state_action] / N[state_action]\n",
        "  policy = {}\n",
        "  for state, actions in Q.items():\n",
        "    policy[state] = torch.argmax(actions).item()\n",
        "  return Q, policy"
      ],
      "metadata": {
        "id": "LkpEspkLQnIQ"
      },
      "execution_count": 3,
      "outputs": []
    },
    {
      "cell_type": "code",
      "source": [
        "gamma = 1\n",
        "n_episode = 500000\n",
        "epsilon = 0.1\n",
        "optimal_Q, optimal_policy = mc_control_epsilon_greedy(env, gamma, n_episode, epsilon)"
      ],
      "metadata": {
        "id": "rZ_kN0K4SBs2"
      },
      "execution_count": 4,
      "outputs": []
    },
    {
      "cell_type": "code",
      "source": [
        "print(optimal_Q)"
      ],
      "metadata": {
        "colab": {
          "base_uri": "https://localhost:8080/"
        },
        "id": "B5aHOfMycqBt",
        "outputId": "3878cbb4-488d-4313-8e92-ad047f760e3c"
      },
      "execution_count": 5,
      "outputs": [
        {
          "output_type": "stream",
          "name": "stdout",
          "text": [
            "defaultdict(<function mc_control_epsilon_greedy.<locals>.<lambda> at 0x7fa777f12560>, {(18, 8, False): tensor([ 0.0973, -0.4852]), (20, 10, False): tensor([ 0.4295, -0.8822]), (13, 4, False): tensor([-0.2063, -0.3918]), (21, 10, True): tensor([ 0.8870, -0.0044]), (20, 4, False): tensor([ 0.6562, -0.8789]), (16, 6, False): tensor([-0.1636, -0.3736]), (19, 10, True): tensor([-0.0549, -0.1411]), (14, 8, False): tensor([-0.4454, -0.3935]), (6, 10, False): tensor([-0.7030, -0.4390]), (16, 5, True): tensor([-0.0977,  0.0812]), (14, 6, False): tensor([-0.1624, -0.3523]), (13, 2, False): tensor([-0.2939, -0.3816]), (12, 10, False): tensor([-0.6007, -0.4531]), (6, 6, False): tensor([-0.1498, -0.1786]), (10, 9, False): tensor([-0.5300,  0.0773]), (7, 10, False): tensor([-0.6170, -0.3770]), (9, 7, False): tensor([-0.5217,  0.1383]), (13, 7, True): tensor([-0.5294,  0.0238]), (21, 8, True): tensor([0.9322, 0.0455]), (20, 10, True): tensor([ 0.4624, -0.1776]), (17, 10, False): tensor([-0.4668, -0.6898]), (13, 10, False): tensor([-0.5844, -0.4814]), (21, 10, False): tensor([ 0.8831, -1.0000]), (16, 10, False): tensor([-0.5737, -0.5810]), (5, 1, False): tensor([-0.7629, -0.7750]), (12, 10, True): tensor([-0.6364, -0.1190]), (13, 10, True): tensor([-0.6522, -0.1764]), (8, 4, False): tensor([-0.0159,  0.0455]), (15, 7, False): tensor([-0.5005, -0.3974]), (20, 5, False): tensor([ 0.6733, -0.8442]), (13, 8, False): tensor([-0.4528, -0.3425]), (19, 3, False): tensor([ 0.3843, -0.7532]), (16, 1, False): tensor([-0.7797, -0.6601]), (20, 3, False): tensor([ 0.6524, -0.8386]), (11, 1, False): tensor([-0.6577, -0.1876]), (15, 5, False): tensor([-0.1814, -0.3542]), (8, 9, False): tensor([-0.6667, -0.2455]), (4, 5, False): tensor([-0.2865, -0.2051]), (20, 9, False): tensor([ 0.7514, -0.8774]), (10, 10, False): tensor([-0.6674, -0.0802]), (20, 1, False): tensor([ 0.1338, -0.8935]), (17, 2, True): tensor([-0.1923, -0.0459]), (20, 1, True): tensor([ 0.1732, -0.1667]), (16, 9, False): tensor([-0.5487, -0.5819]), (18, 2, False): tensor([ 0.1354, -0.6340]), (11, 7, False): tensor([-0.5185,  0.2370]), (19, 1, False): tensor([-0.1120, -0.8259]), (12, 4, False): tensor([-0.1897, -0.2473]), (7, 1, False): tensor([-0.7727, -0.5119]), (17, 10, True): tensor([-0.4698, -0.2507]), (18, 9, True): tensor([-0.2346, -0.1278]), (4, 6, False): tensor([-0.1101, -0.1429]), (15, 6, True): tensor([-0.1538,  0.1440]), (18, 10, False): tensor([-0.2468, -0.6752]), (10, 6, False): tensor([-0.1499,  0.2285]), (13, 9, False): tensor([-0.5767, -0.3987]), (19, 5, True): tensor([0.3939, 0.2660]), (12, 7, False): tensor([-0.3301, -0.2354]), (15, 10, False): tensor([-0.5776, -0.5564]), (19, 9, False): tensor([ 0.2895, -0.7933]), (21, 9, False): tensor([ 0.9359, -1.0000]), (14, 2, False): tensor([-0.2761, -0.3796]), (12, 3, False): tensor([-0.3643, -0.2618]), (12, 5, False): tensor([-0.1908, -0.1942]), (12, 8, True): tensor([-0.3529, -0.1152]), (17, 3, True): tensor([-0.1818, -0.0091]), (20, 8, False): tensor([ 0.8008, -0.8169]), (10, 3, False): tensor([-0.2165,  0.1560]), (14, 10, False): tensor([-0.5670, -0.5179]), (10, 4, False): tensor([-0.2644,  0.2207]), (16, 8, False): tensor([-0.5059, -0.5199]), (9, 10, False): tensor([-0.5837, -0.2284]), (9, 5, False): tensor([-0.2712,  0.1324]), (14, 5, False): tensor([-0.1519, -0.4159]), (15, 3, True): tensor([-0.5556,  0.0341]), (6, 9, False): tensor([-0.5422, -0.5758]), (6, 3, False): tensor([-0.2437, -0.2683]), (9, 2, False): tensor([-0.4505,  0.0556]), (15, 3, False): tensor([-0.2503, -0.3208]), (18, 9, False): tensor([-0.1884, -0.6193]), (15, 10, True): tensor([-0.5507, -0.2403]), (17, 3, False): tensor([-0.1129, -0.5632]), (11, 8, False): tensor([-0.4435,  0.1616]), (18, 4, False): tensor([ 0.2043, -0.6882]), (19, 10, False): tensor([-0.0216, -0.7533]), (20, 8, True): tensor([ 0.7725, -0.0256]), (8, 7, False): tensor([-0.3532,  0.0204]), (19, 2, False): tensor([ 0.4022, -0.7770]), (13, 6, False): tensor([-0.1653, -0.2467]), (7, 3, False): tensor([-0.4762, -0.0615]), (18, 7, False): tensor([ 0.3972, -0.6190]), (12, 6, False): tensor([-0.2105, -0.2153]), (19, 6, True): tensor([0.5456, 0.3208]), (14, 9, False): tensor([-0.5509, -0.4568]), (19, 7, True): tensor([0.6336, 0.0952]), (14, 4, False): tensor([-0.2032, -0.3473]), (8, 1, False): tensor([-0.7931, -0.4637]), (21, 2, True): tensor([0.8942, 0.3333]), (20, 2, False): tensor([ 0.6409, -0.8983]), (8, 10, False): tensor([-0.6557, -0.3281]), (17, 1, False): tensor([-0.6388, -0.7500]), (14, 7, False): tensor([-0.3992, -0.3646]), (8, 8, False): tensor([-0.4634, -0.0938]), (20, 7, False): tensor([ 0.7672, -0.8631]), (15, 9, False): tensor([-0.5676, -0.5047]), (16, 4, False): tensor([-0.2147, -0.4221]), (12, 3, True): tensor([-0.2667,  0.0343]), (13, 1, True): tensor([-0.8571, -0.3700]), (13, 5, False): tensor([-0.1513, -0.4396]), (14, 7, True): tensor([-0.5250,  0.0327]), (16, 7, True): tensor([-0.3636,  0.0245]), (18, 6, False): tensor([ 0.2634, -0.4928]), (14, 3, False): tensor([-0.2899, -0.4051]), (20, 4, True): tensor([0.6711, 0.3721]), (7, 5, False): tensor([-0.0909, -0.0379]), (11, 10, False): tensor([-0.5289,  0.0013]), (13, 7, False): tensor([-0.5803, -0.3184]), (17, 5, False): tensor([-0.0484, -0.4136]), (13, 3, False): tensor([-0.2342, -0.3029]), (18, 7, True): tensor([0.4250, 0.0968]), (18, 10, True): tensor([-0.2345, -0.1895]), (12, 1, False): tensor([-0.7085, -0.5406]), (19, 3, True): tensor([0.3699, 0.0870]), (12, 2, False): tensor([-0.3750, -0.2639]), (9, 6, False): tensor([-0.1783,  0.1617]), (7, 8, False): tensor([-0.6471, -0.2604]), (15, 4, False): tensor([-0.1991, -0.4394]), (21, 4, True): tensor([0.8809, 0.1870]), (8, 6, False): tensor([-0.1429,  0.0703]), (18, 8, True): tensor([0.1451, 0.1286]), (21, 7, True): tensor([0.9334, 0.0732]), (9, 9, False): tensor([-0.5742, -0.1092]), (17, 6, False): tensor([ 0.0272, -0.5417]), (19, 8, False): tensor([ 0.5963, -0.6597]), (6, 1, False): tensor([-0.7576, -0.5821]), (16, 1, True): tensor([-0.8667, -0.4307]), (21, 3, True): tensor([0.8891, 0.2500]), (15, 2, False): tensor([-0.2947, -0.4979]), (9, 8, False): tensor([-0.5405,  0.0528]), (11, 2, False): tensor([-0.3208,  0.1414]), (19, 4, False): tensor([ 0.4299, -0.7164]), (8, 5, False): tensor([-0.4510,  0.0544]), (17, 9, False): tensor([-0.4149, -0.5304]), (20, 6, False): tensor([ 0.7250, -0.8462]), (14, 1, False): tensor([-0.7874, -0.5985]), (19, 9, True): tensor([ 0.2942, -0.0976]), (16, 3, True): tensor([-0.2648, -0.3333]), (16, 10, True): tensor([-0.5333, -0.2939]), (14, 8, True): tensor([-0.5484, -0.0757]), (5, 7, False): tensor([-0.4667, -0.1331]), (19, 5, False): tensor([ 0.4338, -0.7810]), (21, 2, False): tensor([ 0.8771, -1.0000]), (12, 8, False): tensor([-0.5439, -0.2782]), (5, 2, False): tensor([-0.3333, -0.2043]), (11, 5, False): tensor([-0.1892,  0.2600]), (10, 1, False): tensor([-0.7286, -0.3107]), (19, 7, False): tensor([ 0.6174, -0.7385]), (17, 7, False): tensor([-0.0985, -0.5342]), (10, 5, False): tensor([-0.3404,  0.2503]), (15, 1, False): tensor([-0.7677, -0.6578]), (21, 5, True): tensor([0.8853, 0.1405]), (16, 7, False): tensor([-0.4652, -0.4292]), (10, 8, False): tensor([-0.3913,  0.1273]), (21, 4, False): tensor([ 0.8912, -1.0000]), (13, 1, False): tensor([-0.7656, -0.5639]), (9, 3, False): tensor([-0.2041,  0.0830]), (6, 4, False): tensor([-0.3333, -0.0984]), (18, 5, False): tensor([ 0.2147, -0.6481]), (17, 8, False): tensor([-0.3468, -0.5615]), (10, 7, False): tensor([-0.5231,  0.2393]), (16, 2, False): tensor([-0.3028, -0.4450]), (19, 8, True): tensor([0.6219, 0.1316]), (17, 4, False): tensor([-0.0919, -0.5918]), (21, 1, False): tensor([ 0.6418, -1.0000]), (13, 6, True): tensor([-0.1111,  0.0965]), (20, 7, True): tensor([0.8027, 0.1892]), (19, 6, False): tensor([ 0.4964, -0.7429]), (9, 4, False): tensor([-0.2234,  0.1451]), (11, 4, False): tensor([-0.1786,  0.2194]), (18, 3, False): tensor([ 0.1575, -0.5819]), (16, 5, False): tensor([-0.1638, -0.3413]), (21, 1, True): tensor([ 0.6355, -0.2600]), (15, 8, False): tensor([-0.4713, -0.4376]), (12, 9, False): tensor([-0.5000, -0.3701]), (17, 1, True): tensor([-0.6024, -0.3636]), (9, 1, False): tensor([-0.6766, -0.3842]), (16, 3, False): tensor([-0.2446, -0.4970]), (5, 10, False): tensor([-0.5319, -0.4106]), (11, 6, False): tensor([-0.0741,  0.2806]), (11, 3, False): tensor([-0.3333,  0.2118]), (20, 3, True): tensor([0.6375, 0.0227]), (18, 1, False): tensor([-0.3752, -0.7244]), (21, 9, True): tensor([0.9338, 0.2981]), (21, 6, True): tensor([0.9085, 0.3590]), (15, 7, True): tensor([-0.5325,  0.0392]), (5, 6, False): tensor([-0.3462, -0.0714]), (7, 9, False): tensor([-0.5862, -0.3427]), (15, 6, False): tensor([-0.1364, -0.3214]), (18, 1, True): tensor([-0.3924, -0.5312]), (7, 2, False): tensor([-0.2434, -0.0570]), (15, 8, True): tensor([-0.6923, -0.0849]), (19, 2, True): tensor([0.3653, 0.1282]), (8, 2, False): tensor([-0.4409, -0.0619]), (4, 7, False): tensor([-0.5054, -0.1014]), (6, 5, False): tensor([-0.1315,  0.0023]), (17, 5, True): tensor([-0.1515,  0.1262]), (14, 3, True): tensor([-0.3455, -0.0352]), (17, 2, False): tensor([-0.1402, -0.4438]), (7, 4, False): tensor([-0.2308, -0.0767]), (7, 7, False): tensor([-0.4553, -0.0920]), (16, 4, True): tensor([-0.2602, -0.0786]), (5, 8, False): tensor([-0.5132, -0.2371]), (21, 5, False): tensor([ 0.9018, -1.0000]), (4, 8, False): tensor([-0.6774, -0.1005]), (17, 6, True): tensor([-0.0580,  0.0524]), (6, 7, False): tensor([-0.3846, -0.1962]), (17, 8, True): tensor([-0.4452, -0.1493]), (13, 8, True): tensor([-0.4667,  0.0515]), (15, 9, True): tensor([-0.6800, -0.1364]), (4, 9, False): tensor([-0.5082, -0.3333]), (20, 6, True): tensor([0.7114, 0.2115]), (16, 6, True): tensor([-0.2778,  0.1413]), (20, 9, True): tensor([0.7621, 0.1538]), (16, 8, True): tensor([-0.4500, -0.0644]), (14, 6, True): tensor([0.0244, 0.1200]), (8, 3, False): tensor([-0.2121, -0.0055]), (11, 9, False): tensor([-0.5089,  0.0991]), (18, 4, True): tensor([0.1361, 0.1000]), (16, 2, True): tensor([-0.3333, -0.0347]), (13, 9, True): tensor([-0.5487, -0.3409]), (17, 7, True): tensor([-0.2059,  0.0033]), (18, 2, True): tensor([ 0.1772, -0.1515]), (14, 10, True): tensor([-0.6034, -0.2577]), (14, 4, True): tensor([-0.0889,  0.0773]), (21, 6, False): tensor([ 0.9045, -1.0000]), (15, 5, True): tensor([-0.2609,  0.0688]), (5, 3, False): tensor([-0.3333, -0.1335]), (19, 4, True): tensor([0.4154, 0.2000]), (5, 4, False): tensor([-0.2172, -0.3182]), (16, 9, True): tensor([-0.7101, -0.1689]), (20, 5, True): tensor([0.6791, 0.2188]), (13, 4, True): tensor([-0.0435,  0.0904]), (13, 2, True): tensor([-0.3481,  0.0344]), (6, 8, False): tensor([-0.7037, -0.2645]), (14, 1, True): tensor([-1.0000, -0.3771]), (5, 9, False): tensor([-0.5569, -0.4245]), (4, 10, False): tensor([-0.5771, -0.6136]), (21, 3, False): tensor([ 0.8819, -1.0000]), (6, 2, False): tensor([-0.2679, -0.1853]), (7, 6, False): tensor([-0.1290, -0.0377]), (12, 2, True): tensor([-0.0857,  0.0604]), (17, 4, True): tensor([-0.1400,  0.0515]), (20, 2, True): tensor([0.6022, 0.1364]), (18, 5, True): tensor([0.2735, 0.2663]), (15, 2, True): tensor([-0.2457, -0.2500]), (10, 2, False): tensor([-0.1262,  0.1669]), (14, 9, True): tensor([-0.5556, -0.1622]), (21, 8, False): tensor([ 0.9299, -1.0000]), (12, 4, True): tensor([-0.3021, -0.4444]), (12, 6, True): tensor([-0.4545,  0.2796]), (18, 6, True): tensor([0.3276, 0.1818]), (14, 2, True): tensor([-0.2632, -0.0022]), (13, 5, True): tensor([-0.3846,  0.0895]), (14, 5, True): tensor([-0.3731,  0.1575]), (4, 1, False): tensor([-0.7867, -0.8000]), (5, 5, False): tensor([-0.1622, -0.2234]), (13, 3, True): tensor([-0.2174,  0.1108]), (21, 7, False): tensor([ 0.9250, -1.0000]), (15, 1, True): tensor([-0.7934, -0.3946]), (4, 4, False): tensor([-0.2727,  0.0329]), (18, 3, True): tensor([0.1619, 0.2000]), (12, 5, True): tensor([-0.0588,  0.2123]), (15, 4, True): tensor([-0.0286,  0.0897]), (4, 3, False): tensor([-0.2453, -0.2857]), (17, 9, True): tensor([-0.4889, -0.2190]), (4, 2, False): tensor([-0.2414, -0.2549]), (12, 1, True): tensor([-0.7778, -0.2842]), (19, 1, True): tensor([-0.0607, -0.1935]), (12, 7, True): tensor([-0.2727,  0.1437]), (12, 9, True): tensor([-0.7500, -0.0711])})\n"
          ]
        }
      ]
    },
    {
      "cell_type": "markdown",
      "source": [
        "# helpful resource\n",
        "\n",
        "[Blackjack game](https://en.wikipedia.org/wiki/Blackjack)"
      ],
      "metadata": {
        "id": "nZT5cfh0JQH9"
      }
    }
  ]
}