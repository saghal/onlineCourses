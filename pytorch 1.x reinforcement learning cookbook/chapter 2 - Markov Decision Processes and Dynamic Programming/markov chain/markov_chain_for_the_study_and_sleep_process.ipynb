{
  "nbformat": 4,
  "nbformat_minor": 0,
  "metadata": {
    "colab": {
      "name": "markov chain for the study and sleep process",
      "provenance": [],
      "collapsed_sections": []
    },
    "kernelspec": {
      "display_name": "Python 3",
      "language": "python",
      "name": "python3"
    },
    "language_info": {
      "codemirror_mode": {
        "name": "ipython",
        "version": 3
      },
      "file_extension": ".py",
      "mimetype": "text/x-python",
      "name": "python",
      "nbconvert_exporter": "python",
      "pygments_lexer": "ipython3",
      "version": "3.8.3"
    }
  },
  "cells": [
    {
      "cell_type": "markdown",
      "metadata": {
        "id": "wzHKMVoJXX4h"
      },
      "source": [
        "## import libraries"
      ]
    },
    {
      "cell_type": "code",
      "source": [
        "import torch"
      ],
      "metadata": {
        "id": "rLyRghg9C5uD"
      },
      "execution_count": 1,
      "outputs": []
    },
    {
      "cell_type": "markdown",
      "source": [
        "#### transition matrix, T(s, s'), consisting of the probabilities of state s transitioning to state s'.\n",
        "##### s0 (study) and s1 (sleep)"
      ],
      "metadata": {
        "id": "H7J5KxnkZsoD"
      }
    },
    {
      "cell_type": "code",
      "source": [
        "T = torch.tensor([[0.4,0.6],[0.8,0.2]])"
      ],
      "metadata": {
        "id": "LO6drqUiexFL"
      },
      "execution_count": 2,
      "outputs": []
    },
    {
      "cell_type": "markdown",
      "source": [
        "transition probability after k steps."
      ],
      "metadata": {
        "id": "R-1_iLr6bQoK"
      }
    },
    {
      "cell_type": "code",
      "source": [
        "T_2 = torch.matrix_power(T,2)\n",
        "T_5 = torch.matrix_power(T,5)\n",
        "T_10 = torch.matrix_power(T,10)\n",
        "T_15 = torch.matrix_power(T,15)\n",
        "T_20 = torch.matrix_power(T,20)"
      ],
      "metadata": {
        "id": "ov2LmrICfGbG"
      },
      "execution_count": 3,
      "outputs": []
    },
    {
      "cell_type": "markdown",
      "source": [
        "### define the intial distribution of two states\n",
        "\n",
        "meaning there is a 70% chance that the process starts with study and a 30% chance that it starts with sleep."
      ],
      "metadata": {
        "id": "2R4MmyyagrMA"
      }
    },
    {
      "cell_type": "code",
      "source": [
        "v = torch.tensor([[0.7,0.3]])"
      ],
      "metadata": {
        "id": "_aJaPjSjfRb1"
      },
      "execution_count": 4,
      "outputs": []
    },
    {
      "cell_type": "markdown",
      "source": [
        "state distribution after k steps."
      ],
      "metadata": {
        "id": "nNeB6uK6biI2"
      }
    },
    {
      "cell_type": "code",
      "source": [
        "v_1 = torch.mm(v,T)\n",
        "v_2 = torch.mm(v,T_2)\n",
        "v_5 = torch.mm(v,T_5)\n",
        "v_10 = torch.mm(v,T_10)\n",
        "v_15 = torch.mm(v,T_15)\n",
        "v_20 = torch.mm(v,T_20)"
      ],
      "metadata": {
        "id": "3u8UMI8wfUur"
      },
      "execution_count": 5,
      "outputs": []
    },
    {
      "cell_type": "code",
      "source": [
        "print(\"Transition probability after 2 steps:\\n{}\".format(T_2))\n",
        "print(\"Transition probability after 5 steps:\\n{}\".format(T_5))\n",
        "print(\"Transition probability after 10 steps:\\n{}\".format(T_10))\n",
        "print(\"Transition probability after 15 steps:\\n{}\".format(T_15))\n",
        "print(\"Transition probability after 20 steps:\\n{}\".format(T_20))"
      ],
      "metadata": {
        "colab": {
          "base_uri": "https://localhost:8080/"
        },
        "id": "Jyk7GbUcbr_2",
        "outputId": "471293b5-9263-48b7-f4ef-cb24ae5564f5"
      },
      "execution_count": 6,
      "outputs": [
        {
          "output_type": "stream",
          "name": "stdout",
          "text": [
            "Transition probability after 2 steps:\n",
            "tensor([[0.6400, 0.3600],\n",
            "        [0.4800, 0.5200]])\n",
            "Transition probability after 5 steps:\n",
            "tensor([[0.5670, 0.4330],\n",
            "        [0.5773, 0.4227]])\n",
            "Transition probability after 10 steps:\n",
            "tensor([[0.5715, 0.4285],\n",
            "        [0.5714, 0.4286]])\n",
            "Transition probability after 15 steps:\n",
            "tensor([[0.5714, 0.4286],\n",
            "        [0.5714, 0.4286]])\n",
            "Transition probability after 20 steps:\n",
            "tensor([[0.5714, 0.4286],\n",
            "        [0.5714, 0.4286]])\n"
          ]
        }
      ]
    },
    {
      "cell_type": "code",
      "source": [
        "print(\"Distribution of states after 1 step:\\n{}\".format(v_1))\n",
        "print(\"Distribution of states after 1 step:\\n{}\".format(v_2))\n",
        "print(\"Distribution of states after 1 step:\\n{}\".format(v_5))\n",
        "print(\"Distribution of states after 1 step:\\n{}\".format(v_10))\n",
        "print(\"Distribution of states after 1 step:\\n{}\".format(v_15))\n",
        "print(\"Distribution of states after 1 step:\\n{}\".format(v_20))"
      ],
      "metadata": {
        "colab": {
          "base_uri": "https://localhost:8080/"
        },
        "id": "SEP0cQCicQUr",
        "outputId": "a809d421-f912-48c2-9047-c0c0c4c5d697"
      },
      "execution_count": 7,
      "outputs": [
        {
          "output_type": "stream",
          "name": "stdout",
          "text": [
            "Distribution of states after 1 step:\n",
            "tensor([[0.5200, 0.4800]])\n",
            "Distribution of states after 1 step:\n",
            "tensor([[0.5920, 0.4080]])\n",
            "Distribution of states after 1 step:\n",
            "tensor([[0.5701, 0.4299]])\n",
            "Distribution of states after 1 step:\n",
            "tensor([[0.5714, 0.4286]])\n",
            "Distribution of states after 1 step:\n",
            "tensor([[0.5714, 0.4286]])\n",
            "Distribution of states after 1 step:\n",
            "tensor([[0.5714, 0.4286]])\n"
          ]
        }
      ]
    }
  ]
}