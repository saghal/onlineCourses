{
  "nbformat": 4,
  "nbformat_minor": 0,
  "metadata": {
    "colab": {
      "name": "value iteration in Frozen lake",
      "provenance": [],
      "collapsed_sections": []
    },
    "kernelspec": {
      "display_name": "Python 3",
      "language": "python",
      "name": "python3"
    },
    "language_info": {
      "codemirror_mode": {
        "name": "ipython",
        "version": 3
      },
      "file_extension": ".py",
      "mimetype": "text/x-python",
      "name": "python",
      "nbconvert_exporter": "python",
      "pygments_lexer": "ipython3",
      "version": "3.8.3"
    }
  },
  "cells": [
    {
      "cell_type": "markdown",
      "metadata": {
        "id": "wzHKMVoJXX4h"
      },
      "source": [
        "## import libraries"
      ]
    },
    {
      "cell_type": "code",
      "source": [
        "import torch\n",
        "import gym"
      ],
      "metadata": {
        "id": "rLyRghg9C5uD"
      },
      "execution_count": 1,
      "outputs": []
    },
    {
      "cell_type": "code",
      "source": [
        "env = gym.make(\"FrozenLake-v0\")\n",
        "gamma = 0.99\n",
        "threshold = 0.0001"
      ],
      "metadata": {
        "id": "uF1Tl-zw4uuj"
      },
      "execution_count": 2,
      "outputs": []
    },
    {
      "cell_type": "code",
      "source": [
        "def run_episode(env, policy):\n",
        "  state = env.reset()\n",
        "  total_reward = 0\n",
        "  is_done = False\n",
        "  while not is_done:\n",
        "    action = policy[state].item()\n",
        "    state, reward, is_done, info = env.step(action)\n",
        "    total_reward += reward\n",
        "    if is_done:\n",
        "      break\n",
        "  return total_reward"
      ],
      "metadata": {
        "id": "wZyZAV0f-YuK"
      },
      "execution_count": 3,
      "outputs": []
    },
    {
      "cell_type": "code",
      "source": [
        "def value_iteration(env, gamma, threshold):\n",
        "  n_state = env.observation_space.n\n",
        "  n_action = env.action_space.n\n",
        "  V = torch.zeros(n_state)\n",
        "  while True:\n",
        "    V_temp = torch.empty(n_state)\n",
        "    for state in range(n_state):\n",
        "      v_actions = torch.zeros(n_action)\n",
        "      for action in range(n_action):\n",
        "        for trans_prob, new_state, reward, _ in env.env.P[state][action]:\n",
        "          v_actions[action] += trans_prob * (reward + gamma * V[new_state])\n",
        "      V_temp[state] = torch.max(v_actions)\n",
        "    max_delta = torch.max(torch.abs(V - V_temp))\n",
        "    V = V_temp.clone()\n",
        "    if max_delta <= threshold:\n",
        "      break\n",
        "  return V"
      ],
      "metadata": {
        "id": "re-DTemM3nB8"
      },
      "execution_count": 4,
      "outputs": []
    },
    {
      "cell_type": "code",
      "source": [
        "V_optimal = value_iteration(env, gamma, threshold)\n",
        "print('Optimal values:\\n{}'.format(V_optimal))"
      ],
      "metadata": {
        "colab": {
          "base_uri": "https://localhost:8080/"
        },
        "id": "Az2_QWKs4TjQ",
        "outputId": "5b4bd650-802d-47ef-e9ff-46f23ce9e93a"
      },
      "execution_count": 5,
      "outputs": [
        {
          "output_type": "stream",
          "name": "stdout",
          "text": [
            "Optimal values:\n",
            "tensor([0.5404, 0.4966, 0.4681, 0.4541, 0.5569, 0.0000, 0.3572, 0.0000, 0.5905,\n",
            "        0.6421, 0.6144, 0.0000, 0.0000, 0.7410, 0.8625, 0.0000])\n"
          ]
        }
      ]
    },
    {
      "cell_type": "code",
      "source": [
        "def extract_optimal_policy(env, V_optimal, gamma):\n",
        "\n",
        "  n_state = env.observation_space.n\n",
        "  n_action = env.action_space.n\n",
        "  optimal_policy = torch.zeros(n_state)\n",
        "  for state in range(n_state):\n",
        "    v_actions = torch.zeros(n_action)\n",
        "    for action in range(n_action):\n",
        "      for trans_prob, new_state, reward, _ in env.env.P[state][action]:\n",
        "        v_actions[action] += trans_prob * (reward+ gamma * V_optimal[new_state])\n",
        "    optimal_policy[state] = torch.argmax(v_actions)\n",
        "  return optimal_policy"
      ],
      "metadata": {
        "id": "fT4Wkh8k4V51"
      },
      "execution_count": 6,
      "outputs": []
    },
    {
      "cell_type": "code",
      "source": [
        "optimal_policy = extract_optimal_policy(env, V_optimal, gamma)\n",
        "print('Optimal policy:\\n{}'.format(optimal_policy))"
      ],
      "metadata": {
        "colab": {
          "base_uri": "https://localhost:8080/"
        },
        "id": "r1NJFh7i-KUJ",
        "outputId": "64347e3b-3b48-4117-db0e-6849c4eab718"
      },
      "execution_count": 7,
      "outputs": [
        {
          "output_type": "stream",
          "name": "stdout",
          "text": [
            "Optimal policy:\n",
            "tensor([0., 3., 3., 3., 0., 0., 0., 0., 3., 1., 0., 0., 0., 2., 1., 0.])\n"
          ]
        }
      ]
    },
    {
      "cell_type": "code",
      "source": [
        "n_episode = 1000\n",
        "total_rewards = []\n",
        "for episode in range(n_episode):\n",
        "  total_reward = run_episode(env, optimal_policy)\n",
        "  total_rewards.append(total_reward)\n",
        "print('Average total reward under the optimal policy: {}'.format(sum(total_rewards) / n_episode))"
      ],
      "metadata": {
        "colab": {
          "base_uri": "https://localhost:8080/"
        },
        "id": "xqGejex5-Mou",
        "outputId": "1a07f071-7cb6-400c-c1b8-4e257bb16d87"
      },
      "execution_count": 8,
      "outputs": [
        {
          "output_type": "stream",
          "name": "stdout",
          "text": [
            "Average total reward under the optimal policy: 0.747\n"
          ]
        }
      ]
    }
  ]
}