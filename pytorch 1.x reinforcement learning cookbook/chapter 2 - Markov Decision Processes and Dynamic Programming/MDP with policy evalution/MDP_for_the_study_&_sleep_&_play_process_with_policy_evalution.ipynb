{
  "nbformat": 4,
  "nbformat_minor": 0,
  "metadata": {
    "colab": {
      "name": "MDP for the study & sleep & play process with policy evalution",
      "provenance": [],
      "collapsed_sections": []
    },
    "kernelspec": {
      "display_name": "Python 3",
      "language": "python",
      "name": "python3"
    },
    "language_info": {
      "codemirror_mode": {
        "name": "ipython",
        "version": 3
      },
      "file_extension": ".py",
      "mimetype": "text/x-python",
      "name": "python",
      "nbconvert_exporter": "python",
      "pygments_lexer": "ipython3",
      "version": "3.8.3"
    }
  },
  "cells": [
    {
      "cell_type": "markdown",
      "source": [
        "an MDP involves an agent and a decision-making process.\n",
        "\n",
        "in this session we develop an MDP and calculating the value function under the `optimal policy`.\n",
        "\n",
        "the optimal policy, in this case, is\n",
        "choosing a0 work for each step"
      ],
      "metadata": {
        "id": "G9dhwo-Mn1l7"
      }
    },
    {
      "cell_type": "markdown",
      "metadata": {
        "id": "wzHKMVoJXX4h"
      },
      "source": [
        "## import libraries"
      ]
    },
    {
      "cell_type": "code",
      "source": [
        "import torch\n",
        "import matplotlib.pyplot as plt"
      ],
      "metadata": {
        "id": "rLyRghg9C5uD"
      },
      "execution_count": 1,
      "outputs": []
    },
    {
      "cell_type": "markdown",
      "source": [
        "#### transition matrix, T(s, a, s'), consisting of the probabilities of state s transitioning to state s' with action a.\n",
        "##### s0 (study) and s1 (sleep) and s2 (play)\n",
        "##### a0 work and a1 slack"
      ],
      "metadata": {
        "id": "H7J5KxnkZsoD"
      }
    },
    {
      "cell_type": "code",
      "source": [
        "T = torch.tensor([ \n",
        "                   [[0.8, 0.1, 0.1],\n",
        "                    [0.1, 0.6, 0.3]]\n",
        "                  ,[[0.7, 0.2, 0.1],\n",
        "                    [0.1, 0.2, 0.1]]\n",
        "                  ,[[0.6, 0.2, 0.2],\n",
        "                    [0.1, 0.4, 0.5]]\n",
        "                  ])"
      ],
      "metadata": {
        "id": "LO6drqUiexFL"
      },
      "execution_count": 2,
      "outputs": []
    },
    {
      "cell_type": "code",
      "source": [
        "R = torch.tensor([1., 0, -1.]) #reward\n",
        "gamma = 0.5\n",
        "policy_optimal = torch.tensor([[1.0, 0.0],[1.0, 0.0],[1.0, 0.0]])\n",
        "threshold = 0.0001"
      ],
      "metadata": {
        "id": "ov2LmrICfGbG"
      },
      "execution_count": 3,
      "outputs": []
    },
    {
      "cell_type": "code",
      "source": [
        "def policy_evaluation(policy, trans_matrix, rewards, gamma, threshold):\n",
        "  \"\"\"\n",
        "    Perform policy evaluation\n",
        "    @param policy: policy matrix containing actions and their\n",
        "    probability in each state\n",
        "    @param trans_matrix: transformation matrix\n",
        "    @param rewards: rewards for each state\n",
        "    @param gamma: discount factor\n",
        "    @param threshold: the evaluation will stop once values\n",
        "    for all states are less than the threshold\n",
        "    @return: values of the given policy for all possible states\n",
        "  \"\"\"\n",
        "  n_state = policy.shape[0]\n",
        "  V = torch.zeros(n_state)\n",
        "  V_his = [V]\n",
        "  while True:\n",
        "    V_temp = torch.zeros(n_state)\n",
        "    for state, actions in enumerate(policy):\n",
        "      for action, action_prob in enumerate(actions):\n",
        "        V_temp[state] += action_prob * (R[state] + gamma * torch.dot(trans_matrix[state, action], V))\n",
        "    max_delta = torch.max(torch.abs(V - V_temp))\n",
        "    V = V_temp.clone()\n",
        "    V_his.append(V)\n",
        "    if max_delta <= threshold:\n",
        "      break\n",
        "  return V, V_his"
      ],
      "metadata": {
        "id": "d_PS438Yq0W8"
      },
      "execution_count": 4,
      "outputs": []
    },
    {
      "cell_type": "code",
      "source": [
        "V, vHistory = policy_evaluation(policy_optimal, T, R, gamma, threshold)\n",
        "print(\"The value function under the optimal policy is:\\n{}\".format(V))"
      ],
      "metadata": {
        "colab": {
          "base_uri": "https://localhost:8080/"
        },
        "id": "aKBQefQyrokO",
        "outputId": "12f38549-2c54-4ad5-db48-8bdd53a1e013"
      },
      "execution_count": 5,
      "outputs": [
        {
          "output_type": "stream",
          "name": "stdout",
          "text": [
            "The value function under the optimal policy is:\n",
            "tensor([ 1.6786,  0.6260, -0.4821])\n"
          ]
        }
      ]
    },
    {
      "cell_type": "code",
      "source": [
        "s0, = plt.plot([v[0] for v in vHistory])\n",
        "s1, = plt.plot([v[1] for v in vHistory])\n",
        "s2, = plt.plot([v[2] for v in vHistory])\n",
        "plt.title('Optimal policy with gamma = {}'.format(str(gamma)))\n",
        "plt.xlabel('Iteration')\n",
        "plt.ylabel('Policy values')\n",
        "plt.legend([s0, s1, s2],[\"State s0\",\"State s1\",\"State s2\"], loc=\"upper left\")\n",
        "plt.show()"
      ],
      "metadata": {
        "colab": {
          "base_uri": "https://localhost:8080/",
          "height": 295
        },
        "id": "gsquOuE14NMM",
        "outputId": "d0b55164-4283-4d3d-9734-91a05a03a9a8"
      },
      "execution_count": 6,
      "outputs": [
        {
          "output_type": "display_data",
          "data": {
            "text/plain": [
              "<Figure size 432x288 with 1 Axes>"
            ],
            "image/png": "[encoded data removed]"
          },
          "metadata": {
            "needs_background": "light"
          }
        }
      ]
    }
  ]
}