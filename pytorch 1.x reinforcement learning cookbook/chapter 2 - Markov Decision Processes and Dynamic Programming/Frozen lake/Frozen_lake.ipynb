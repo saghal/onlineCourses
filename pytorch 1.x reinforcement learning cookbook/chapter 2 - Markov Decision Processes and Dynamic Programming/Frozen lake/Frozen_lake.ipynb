{
  "nbformat": 4,
  "nbformat_minor": 0,
  "metadata": {
    "colab": {
      "name": "Frozen lake",
      "provenance": [],
      "collapsed_sections": []
    },
    "kernelspec": {
      "display_name": "Python 3",
      "language": "python",
      "name": "python3"
    },
    "language_info": {
      "codemirror_mode": {
        "name": "ipython",
        "version": 3
      },
      "file_extension": ".py",
      "mimetype": "text/x-python",
      "name": "python",
      "nbconvert_exporter": "python",
      "pygments_lexer": "ipython3",
      "version": "3.8.3"
    }
  },
  "cells": [
    {
      "cell_type": "markdown",
      "metadata": {
        "id": "wzHKMVoJXX4h"
      },
      "source": [
        "## import libraries"
      ]
    },
    {
      "cell_type": "code",
      "source": [
        "import torch\n",
        "import gym"
      ],
      "metadata": {
        "id": "rLyRghg9C5uD"
      },
      "execution_count": 1,
      "outputs": []
    },
    {
      "cell_type": "code",
      "source": [
        "env = gym.make(\"FrozenLake-v0\")\n",
        "n_state = env.observation_space.n\n",
        "n_action = env.action_space.n\n",
        "env.reset()\n",
        "env.render()"
      ],
      "metadata": {
        "colab": {
          "base_uri": "https://localhost:8080/"
        },
        "id": "uF1Tl-zw4uuj",
        "outputId": "25204f86-5b0f-4857-dc19-b8869795c026"
      },
      "execution_count": 2,
      "outputs": [
        {
          "output_type": "stream",
          "name": "stdout",
          "text": [
            "\n",
            "\u001b[41mS\u001b[0mFFF\n",
            "FHFH\n",
            "FFFH\n",
            "HFFG\n"
          ]
        }
      ]
    },
    {
      "cell_type": "code",
      "source": [
        "def run_episode(env, policy):\n",
        "  state = env.reset()\n",
        "  total_reward = 0\n",
        "  is_done = False\n",
        "  while not is_done:\n",
        "    action = policy[state].item()\n",
        "    state, reward, is_done, info = env.step(action)\n",
        "    total_reward += reward\n",
        "    if is_done:\n",
        "      break\n",
        "  return total_reward"
      ],
      "metadata": {
        "id": "xCl1AEY85gdV"
      },
      "execution_count": 3,
      "outputs": []
    },
    {
      "cell_type": "code",
      "source": [
        "n_episode = 1000\n",
        "total_rewards = []\n",
        "for episode in range(n_episode):\n",
        "  random_policy = torch.randint(high=n_action, size=(n_state,))#generate random policy\n",
        "  total_reward = run_episode(env, random_policy)\n",
        "  total_rewards.append(total_reward)\n",
        "print('Average total reward under random policy: {}'.format(sum(total_rewards) / n_episode))"
      ],
      "metadata": {
        "colab": {
          "base_uri": "https://localhost:8080/"
        },
        "id": "DLhg-TnS6Frz",
        "outputId": "afb34b87-74f5-4930-c793-4034f8b973e0"
      },
      "execution_count": 4,
      "outputs": [
        {
          "output_type": "stream",
          "name": "stdout",
          "text": [
            "Average total reward under random policy: 0.017\n"
          ]
        }
      ]
    },
    {
      "cell_type": "markdown",
      "source": [
        "record first pollicy reaches the goals"
      ],
      "metadata": {
        "id": "tcdcnE2E7Wav"
      }
    },
    {
      "cell_type": "code",
      "source": [
        "while True:\n",
        "  random_policy = torch.randint(high=n_action, size=(n_state,))\n",
        "  total_reward = run_episode(env, random_policy)\n",
        "  if total_reward == 1:\n",
        "    best_policy = random_policy\n",
        "    break"
      ],
      "metadata": {
        "id": "m4Gs3NjK7uA2"
      },
      "execution_count": 5,
      "outputs": []
    },
    {
      "cell_type": "markdown",
      "source": [
        "test with recorded policy"
      ],
      "metadata": {
        "id": "fBWesBeq7_H0"
      }
    },
    {
      "cell_type": "code",
      "source": [
        "total_rewards = []\n",
        "for episode in range(n_episode):\n",
        "  total_reward = run_episode(env, best_policy)\n",
        "  total_rewards.append(total_reward)\n",
        "print('Average total reward under random search policy: {}'.format(sum(total_rewards) / n_episode))"
      ],
      "metadata": {
        "colab": {
          "base_uri": "https://localhost:8080/"
        },
        "id": "HcLdjBhT76PW",
        "outputId": "35ba221f-618c-4b3b-8ecc-de7880bf43fe"
      },
      "execution_count": 6,
      "outputs": [
        {
          "output_type": "stream",
          "name": "stdout",
          "text": [
            "Average total reward under random search policy: 0.066\n"
          ]
        }
      ]
    }
  ]
}