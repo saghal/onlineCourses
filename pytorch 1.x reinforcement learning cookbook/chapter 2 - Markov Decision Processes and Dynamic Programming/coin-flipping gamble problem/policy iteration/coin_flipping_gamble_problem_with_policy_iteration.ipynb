{
  "nbformat": 4,
  "nbformat_minor": 0,
  "metadata": {
    "colab": {
      "name": "coin-flipping gamble problem with policy iteration",
      "provenance": [],
      "collapsed_sections": []
    },
    "kernelspec": {
      "display_name": "Python 3",
      "language": "python",
      "name": "python3"
    },
    "language_info": {
      "codemirror_mode": {
        "name": "ipython",
        "version": 3
      },
      "file_extension": ".py",
      "mimetype": "text/x-python",
      "name": "python",
      "nbconvert_exporter": "python",
      "pygments_lexer": "ipython3",
      "version": "3.8.3"
    }
  },
  "cells": [
    {
      "cell_type": "markdown",
      "metadata": {
        "id": "wzHKMVoJXX4h"
      },
      "source": [
        "## import libraries"
      ]
    },
    {
      "cell_type": "code",
      "source": [
        "import torch"
      ],
      "metadata": {
        "id": "rLyRghg9C5uD"
      },
      "execution_count": 1,
      "outputs": []
    },
    {
      "cell_type": "code",
      "source": [
        "gamma = 1\n",
        "threshold = 1e-10"
      ],
      "metadata": {
        "id": "uF1Tl-zw4uuj"
      },
      "execution_count": 2,
      "outputs": []
    },
    {
      "cell_type": "markdown",
      "source": [
        "define env"
      ],
      "metadata": {
        "id": "NQk5J6Fjws7G"
      }
    },
    {
      "cell_type": "code",
      "source": [
        "capital_max = 100\n",
        "n_state = capital_max + 1\n",
        "rewards = torch.zeros(n_state)\n",
        "rewards[-1] = 1"
      ],
      "metadata": {
        "id": "7MMKhpWNwTfT"
      },
      "execution_count": 3,
      "outputs": []
    },
    {
      "cell_type": "markdown",
      "source": [
        "probability of getting heads is 40%"
      ],
      "metadata": {
        "id": "o9N5Ksxbwfav"
      }
    },
    {
      "cell_type": "code",
      "source": [
        "head_prob = 0.4"
      ],
      "metadata": {
        "id": "1DzFc5ILwe9U"
      },
      "execution_count": 4,
      "outputs": []
    },
    {
      "cell_type": "code",
      "source": [
        "env = {'capital_max': capital_max,\n",
        "       'head_prob': head_prob,\n",
        "       'rewards': rewards,\n",
        "       'n_state': n_state}"
      ],
      "metadata": {
        "id": "-f1tF8iZw32i"
      },
      "execution_count": 5,
      "outputs": []
    },
    {
      "cell_type": "code",
      "source": [
        "def policy_evaluation(env, policy, gamma, threshold):\n",
        "  head_prob = env['head_prob']\n",
        "  n_state = env['n_state']\n",
        "  capital_max = env['capital_max']\n",
        "  V = torch.zeros(n_state)\n",
        "  while True:\n",
        "    V_temp = torch.zeros(n_state)\n",
        "    for state in range(1, capital_max):\n",
        "      action = policy[state].item()\n",
        "      V_temp[state] += head_prob * (rewards[state + action] + gamma * V[state + action])\n",
        "      V_temp[state] += (1 - head_prob) * (rewards[state - action] +gamma * V[state - action])\n",
        "    max_delta = torch.max(torch.abs(V - V_temp))\n",
        "    V = V_temp.clone()\n",
        "    if max_delta <= threshold:\n",
        "      break\n",
        "  return V    "
      ],
      "metadata": {
        "id": "rLV47mxY3Y3z"
      },
      "execution_count": 6,
      "outputs": []
    },
    {
      "cell_type": "code",
      "source": [
        "def policy_improvement(env, V, gamma):\n",
        "  head_prob = env['head_prob']\n",
        "  n_state = env['n_state']\n",
        "  capital_max = env['capital_max']\n",
        "  policy = torch.zeros(n_state).int()\n",
        "  \n",
        "  for state in range(1, capital_max):\n",
        "    v_actions = torch.zeros(min(state, capital_max - state) + 1)  \n",
        "    for action in range(1, min(state, capital_max - state) + 1):\n",
        "      v_actions[action] += head_prob * (rewards[state + action] + gamma * V[state + action])\n",
        "      v_actions[action] += (1 - head_prob) * (rewards[state - action] +gamma * V[state - action])\n",
        "    policy[state] = torch.argmax(v_actions)\n",
        "  return policy"
      ],
      "metadata": {
        "id": "9chn3_l54jpR"
      },
      "execution_count": 7,
      "outputs": []
    },
    {
      "cell_type": "code",
      "source": [
        "def policy_iteration(env, gamma, threshold):\n",
        "  n_state = env['n_state']\n",
        "  policy = torch.zeros(n_state).int()\n",
        "  while True:\n",
        "    V = policy_evaluation(env, policy, gamma, threshold)\n",
        "    policy_improved = policy_improvement(env, V, gamma)\n",
        "    if torch.equal(policy_improved, policy):\n",
        "      return V, policy_improved\n",
        "    policy = policy_improved"
      ],
      "metadata": {
        "id": "_-KLSaWR5O87"
      },
      "execution_count": 8,
      "outputs": []
    },
    {
      "cell_type": "code",
      "source": [
        "V_optimal, optimal_policy = policy_iteration(env, gamma, threshold)"
      ],
      "metadata": {
        "id": "gxPLCDNx5p7N"
      },
      "execution_count": 9,
      "outputs": []
    },
    {
      "cell_type": "code",
      "source": [
        "import matplotlib.pyplot as plt\n",
        "plt.plot(optimal_policy[:100].numpy())\n",
        "plt.title('Optimal policy')\n",
        "plt.xlabel('state')\n",
        "plt.ylabel('action')\n",
        "plt.show()"
      ],
      "metadata": {
        "colab": {
          "base_uri": "https://localhost:8080/",
          "height": 295
        },
        "id": "8MYrkEJ32EY9",
        "outputId": "e5b71e7b-b015-406c-a24d-f371997893c0"
      },
      "execution_count": 10,
      "outputs": [
        {
          "output_type": "display_data",
          "data": {
            "text/plain": [
              "<Figure size 432x288 with 1 Axes>"
            ],
            "image/png": "[encoded data removed]"
          },
          "metadata": {
            "needs_background": "light"
          }
        }
      ]
    }
  ]
}