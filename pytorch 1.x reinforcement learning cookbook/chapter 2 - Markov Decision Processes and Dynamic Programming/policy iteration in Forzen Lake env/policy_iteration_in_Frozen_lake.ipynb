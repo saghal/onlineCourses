{
  "nbformat": 4,
  "nbformat_minor": 0,
  "metadata": {
    "colab": {
      "name": "policy iteration in Frozen lake",
      "provenance": [],
      "collapsed_sections": []
    },
    "kernelspec": {
      "display_name": "Python 3",
      "language": "python",
      "name": "python3"
    },
    "language_info": {
      "codemirror_mode": {
        "name": "ipython",
        "version": 3
      },
      "file_extension": ".py",
      "mimetype": "text/x-python",
      "name": "python",
      "nbconvert_exporter": "python",
      "pygments_lexer": "ipython3",
      "version": "3.8.3"
    }
  },
  "cells": [
    {
      "cell_type": "markdown",
      "metadata": {
        "id": "wzHKMVoJXX4h"
      },
      "source": [
        "## import libraries"
      ]
    },
    {
      "cell_type": "code",
      "source": [
        "import torch\n",
        "import gym"
      ],
      "metadata": {
        "id": "rLyRghg9C5uD"
      },
      "execution_count": 1,
      "outputs": []
    },
    {
      "cell_type": "code",
      "source": [
        "env = gym.make(\"FrozenLake-v0\")\n",
        "gamma = 0.99\n",
        "threshold = 0.0001"
      ],
      "metadata": {
        "id": "uF1Tl-zw4uuj"
      },
      "execution_count": 2,
      "outputs": []
    },
    {
      "cell_type": "code",
      "source": [
        "def policy_evaluation(env, policy, gamma, threshold):\n",
        "  n_state = policy.shape[0]\n",
        "  V = torch.zeros(n_state)\n",
        "  while True:\n",
        "    V_temp = torch.zeros(n_state)\n",
        "    for state in range(n_state):\n",
        "      action = policy[state].item()\n",
        "      for trans_prob, new_state, reward, _ in env.env.P[state][action]:\n",
        "        V_temp[state] += trans_prob * (reward + gamma * V[new_state])\n",
        "    max_delta = torch.max(torch.abs(V - V_temp))\n",
        "    V = V_temp.clone()\n",
        "    if max_delta <= threshold:\n",
        "      break\n",
        "  return V"
      ],
      "metadata": {
        "id": "KNQ1nfT8aq9W"
      },
      "execution_count": 3,
      "outputs": []
    },
    {
      "cell_type": "code",
      "source": [
        "def policy_improvement(env, V, gamma):\n",
        "\n",
        "  n_state = env.observation_space.n\n",
        "  n_action = env.action_space.n  \n",
        "  policy = torch.zeros(n_state)\n",
        "  for state in range(n_state):  \n",
        "    v_actions = torch.zeros(n_action)\n",
        "    for action in range(n_action):\n",
        "      for trans_prob, new_state, reward, _ in env.env.P[state][action]:\n",
        "        v_actions[action] += trans_prob * (reward + gamma * V[new_state])\n",
        "    policy[state] = torch.argmax(v_actions)\n",
        "  return policy"
      ],
      "metadata": {
        "id": "gccFwQojbPlM"
      },
      "execution_count": 4,
      "outputs": []
    },
    {
      "cell_type": "code",
      "source": [
        "def policy_iteration(env, gamma, threshold):\n",
        "\n",
        "  n_state = env.observation_space.n\n",
        "  n_action = env.action_space.n\n",
        "  policy = torch.randint(high=n_action,size=(n_state,)).float()\n",
        "  while True:\n",
        "    V = policy_evaluation(env, policy, gamma, threshold)\n",
        "    policy_improved = policy_improvement(env, V, gamma)\n",
        "    if torch.equal(policy_improved, policy):\n",
        "      return V, policy_improved\n",
        "    policy = policy_improved"
      ],
      "metadata": {
        "id": "yf-ldGqDbl1U"
      },
      "execution_count": 5,
      "outputs": []
    },
    {
      "cell_type": "code",
      "source": [
        "def run_episode(env, policy):\n",
        "  state = env.reset()\n",
        "  total_reward = 0\n",
        "  is_done = False\n",
        "  while not is_done:\n",
        "    action = policy[state].item()\n",
        "    state, reward, is_done, info = env.step(action)\n",
        "    total_reward += reward\n",
        "    if is_done:\n",
        "      break\n",
        "  return total_reward"
      ],
      "metadata": {
        "id": "wZyZAV0f-YuK"
      },
      "execution_count": 6,
      "outputs": []
    },
    {
      "cell_type": "code",
      "source": [
        "V_optimal, optimal_policy = policy_iteration(env, gamma, threshold)"
      ],
      "metadata": {
        "id": "RWvXunfLb92w"
      },
      "execution_count": 7,
      "outputs": []
    },
    {
      "cell_type": "code",
      "source": [
        "n_episode = 1000\n",
        "total_rewards = []\n",
        "for episode in range(n_episode):\n",
        "  total_reward = run_episode(env, optimal_policy)\n",
        "  total_rewards.append(total_reward)\n",
        "print('Average total reward under the optimal policy: {}'.format(sum(total_rewards) / n_episode))"
      ],
      "metadata": {
        "colab": {
          "base_uri": "https://localhost:8080/"
        },
        "id": "xqGejex5-Mou",
        "outputId": "c273a6f4-7ac0-42c9-922f-8127603c1e6b"
      },
      "execution_count": 8,
      "outputs": [
        {
          "output_type": "stream",
          "name": "stdout",
          "text": [
            "Average total reward under the optimal policy: 0.753\n"
          ]
        }
      ]
    }
  ]
}