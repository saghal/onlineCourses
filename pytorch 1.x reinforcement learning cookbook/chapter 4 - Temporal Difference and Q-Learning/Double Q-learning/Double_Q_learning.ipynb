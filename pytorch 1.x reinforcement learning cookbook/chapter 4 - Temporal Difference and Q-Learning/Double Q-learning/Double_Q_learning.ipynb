{
  "nbformat": 4,
  "nbformat_minor": 0,
  "metadata": {
    "colab": {
      "name": "Double Q-learning",
      "provenance": [],
      "collapsed_sections": []
    },
    "kernelspec": {
      "display_name": "Python 3",
      "language": "python",
      "name": "python3"
    },
    "language_info": {
      "codemirror_mode": {
        "name": "ipython",
        "version": 3
      },
      "file_extension": ".py",
      "mimetype": "text/x-python",
      "name": "python",
      "nbconvert_exporter": "python",
      "pygments_lexer": "ipython3",
      "version": "3.8.3"
    }
  },
  "cells": [
    {
      "cell_type": "markdown",
      "metadata": {
        "id": "wzHKMVoJXX4h"
      },
      "source": [
        "## import libraries"
      ]
    },
    {
      "cell_type": "code",
      "source": [
        "import torch\n",
        "import gym\n",
        "import matplotlib.pyplot as plt\n",
        "env = gym.make('Taxi-v3')"
      ],
      "metadata": {
        "id": "0ydx3MJ0FpZw"
      },
      "execution_count": 18,
      "outputs": []
    },
    {
      "cell_type": "code",
      "source": [
        "def gen_epsilon_greedy_policy(n_action, epsilon):\n",
        "  def policy_function(state, Q):\n",
        "    probs = torch.ones(n_action) * epsilon / n_action\n",
        "    best_action = torch.argmax(Q[state]).item()\n",
        "    probs[best_action] += 1.0 - epsilon\n",
        "    action = torch.multinomial(probs, 1).item()\n",
        "    return action\n",
        "  return policy_function"
      ],
      "metadata": {
        "id": "fnnkThuzLvUJ"
      },
      "execution_count": 19,
      "outputs": []
    },
    {
      "cell_type": "code",
      "source": [
        "n_episode = 10000\n",
        "length_episode = [0] * n_episode\n",
        "total_reward_episode = [0] * n_episode"
      ],
      "metadata": {
        "id": "ICdRrzRML_9I"
      },
      "execution_count": 20,
      "outputs": []
    },
    {
      "cell_type": "code",
      "source": [
        "def double_q_learning(env, gamma, n_episode, alpha):\n",
        "  n_action = env.action_space.n\n",
        "  n_state = env.observation_space.n\n",
        "  Q1 = torch.zeros(n_state, n_action)\n",
        "  Q2 = torch.zeros(n_state, n_action)\n",
        "  for episode in range(n_episode):\n",
        "    state = env.reset()\n",
        "    is_done = False\n",
        "    while not is_done:\n",
        "      action = epsilon_greedy_policy(state, Q1 + Q2)\n",
        "      next_state, reward, is_done, info = env.step(action)\n",
        "      if (torch.rand(1).item() < 0.5):\n",
        "        best_next_action = torch.argmax(Q1[next_state])\n",
        "        td_delta = reward + gamma * Q2[next_state][best_next_action] - Q1[state][action]\n",
        "        Q1[state][action] += alpha * td_delta\n",
        "      else:\n",
        "        best_next_action = torch.argmax(Q2[next_state])\n",
        "        td_delta = reward + gamma * Q1[next_state][best_next_action] - Q2[state][action]\n",
        "        Q2[state][action] += alpha * td_delta\n",
        "      length_episode[episode] += 1\n",
        "      total_reward_episode[episode] += reward\n",
        "      if is_done:\n",
        "        break\n",
        "      state = next_state\n",
        "  policy = {}\n",
        "  Q = Q1 + Q2\n",
        "  for state in range(n_state):\n",
        "    policy[state] = torch.argmax(Q[state]).item()\n",
        "  return Q, policy"
      ],
      "metadata": {
        "id": "fwrjbOYnMEMY"
      },
      "execution_count": 21,
      "outputs": []
    },
    {
      "cell_type": "code",
      "source": [
        "gamma = 1\n",
        "alpha = 0.4\n",
        "epsilon = 0.1\n",
        "epsilon_greedy_policy = gen_epsilon_greedy_policy(env.action_space.n, epsilon)"
      ],
      "metadata": {
        "id": "D5PyEu_uZko0"
      },
      "execution_count": 22,
      "outputs": []
    },
    {
      "cell_type": "code",
      "source": [
        "optimal_Q, optimal_policy = double_q_learning(env, gamma,n_episode, alpha)"
      ],
      "metadata": {
        "id": "hGWVk_fjZrUS"
      },
      "execution_count": 23,
      "outputs": []
    },
    {
      "cell_type": "code",
      "source": [
        "plt.plot(total_reward_episode)\n",
        "plt.title('Episode reward over time')\n",
        "plt.xlabel('Episode')\n",
        "plt.ylabel('Total reward')\n",
        "plt.show()\n",
        "plt.plot(length_episode)\n",
        "plt.title('Episode length over time')\n",
        "plt.xlabel('Episode')\n",
        "plt.ylabel('Length')\n",
        "plt.show()"
      ],
      "metadata": {
        "colab": {
          "base_uri": "https://localhost:8080/",
          "height": 573
        },
        "id": "6jKt7ioHaTlU",
        "outputId": "02a91fa9-817c-4bf6-ba3a-e67fd8806c41"
      },
      "execution_count": 24,
      "outputs": [
        {
          "output_type": "display_data",
          "data": {
            "image/png": "[encoded data removed]",
            "text/plain": [
              "<Figure size 432x288 with 1 Axes>"
            ]
          },
          "metadata": {
            "needs_background": "light"
          }
        },
        {
          "output_type": "display_data",
          "data": {
            "image/png": "[encoded data removed]",
            "text/plain": [
              "<Figure size 432x288 with 1 Axes>"
            ]
          },
          "metadata": {
            "needs_background": "light"
          }
        }
      ]
    }
  ]
}