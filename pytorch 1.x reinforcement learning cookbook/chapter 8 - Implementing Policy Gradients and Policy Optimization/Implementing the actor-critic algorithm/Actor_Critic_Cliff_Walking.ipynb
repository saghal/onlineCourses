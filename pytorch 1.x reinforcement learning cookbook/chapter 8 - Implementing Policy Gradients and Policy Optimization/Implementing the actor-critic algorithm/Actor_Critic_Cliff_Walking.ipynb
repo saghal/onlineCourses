{
  "nbformat": 4,
  "nbformat_minor": 0,
  "metadata": {
    "colab": {
      "name": "Actor-Critic Cliff Walking",
      "provenance": [],
      "collapsed_sections": []
    },
    "kernelspec": {
      "display_name": "Python 3",
      "language": "python",
      "name": "python3"
    },
    "language_info": {
      "codemirror_mode": {
        "name": "ipython",
        "version": 3
      },
      "file_extension": ".py",
      "mimetype": "text/x-python",
      "name": "python",
      "nbconvert_exporter": "python",
      "pygments_lexer": "ipython3",
      "version": "3.8.3"
    }
  },
  "cells": [
    {
      "cell_type": "markdown",
      "metadata": {
        "id": "wzHKMVoJXX4h"
      },
      "source": [
        "## import libraries"
      ]
    },
    {
      "cell_type": "code",
      "source": [
        "import gym\n",
        "import torch\n",
        "import torch.nn as nn\n",
        "import torch.nn.functional as F\n",
        "env = gym.make('CliffWalking-v0')"
      ],
      "metadata": {
        "id": "0ydx3MJ0FpZw"
      },
      "execution_count": 1,
      "outputs": []
    },
    {
      "cell_type": "code",
      "source": [
        "class ActorCriticModel(nn.Module):\n",
        "\n",
        "  def __init__(self, n_input, n_output, n_hidden):\n",
        "    super(ActorCriticModel, self).__init__()\n",
        "    self.fc1 = nn.Linear(n_input, n_hidden[0])\n",
        "    self.fc2 = nn.Linear(n_hidden[0], n_hidden[1])\n",
        "    self.action = nn.Linear(n_hidden[1], n_output)\n",
        "    self.value = nn.Linear(n_hidden[1], 1)\n",
        "\n",
        "  def forward(self, x):\n",
        "    x = torch.Tensor(x)\n",
        "    x = F.relu(self.fc1(x))\n",
        "    x = F.relu(self.fc2(x))    \n",
        "    action_probs = F.softmax(self.action(x), dim=-1)\n",
        "    state_values = self.value(x)\n",
        "    return action_probs, state_values"
      ],
      "metadata": {
        "id": "puLT0gROXL6V"
      },
      "execution_count": 2,
      "outputs": []
    },
    {
      "cell_type": "code",
      "source": [
        "class PolicyNetwork():\n",
        "\n",
        "  def __init__(self, n_state, n_action, n_hidden=50, lr=0.001):\n",
        "\n",
        "    self.model = ActorCriticModel(n_state, n_action, n_hidden)\n",
        "    self.optimizer = torch.optim.Adam(self.model.parameters(), lr)\n",
        "    self.scheduler = torch.optim.lr_scheduler.StepLR(self.optimizer, step_size=10, gamma=0.9)\n",
        "  \n",
        "  def predict(self, s):\n",
        "    return self.model(torch.Tensor(s))\n",
        "  \n",
        "  def update(self, returns, log_probs, state_values):\n",
        "    loss = 0\n",
        "    for log_prob, value, Gt in zip(log_probs, state_values, returns):\n",
        "      advantage = Gt - value.item()\n",
        "      policy_loss = -log_prob * advantage\n",
        "      value_loss = F.smooth_l1_loss(value, Gt)\n",
        "      loss += policy_loss + value_loss\n",
        "    self.optimizer.zero_grad()\n",
        "    loss.backward()\n",
        "    self.optimizer.step()\n",
        "\n",
        "  def get_action(self, s):\n",
        "    action_probs, state_value = self.predict(s)\n",
        "    action = torch.multinomial(action_probs, 1).item()\n",
        "    log_prob = torch.log(action_probs[action])\n",
        "    return action, log_prob, state_value\n",
        "  \n",
        "  "
      ],
      "metadata": {
        "id": "8MOlMfi9X4dv"
      },
      "execution_count": 3,
      "outputs": []
    },
    {
      "cell_type": "code",
      "source": [
        "def actor_critic(env, estimator, n_episode, gamma=1.0):\n",
        "\n",
        "  for episode in range(n_episode):\n",
        "    log_probs = []\n",
        "    rewards = []\n",
        "    state_values = []\n",
        "    state = env.reset()\n",
        "    while True:\n",
        "      one_hot_state = [0] * 48\n",
        "      one_hot_state[state] = 1\n",
        "      action, log_prob, state_value = estimator.get_action(one_hot_state)\n",
        "      next_state, reward, is_done, _ = env.step(action)\n",
        "      total_reward_episode[episode] += reward\n",
        "      log_probs.append(log_prob)\n",
        "      state_values.append(state_value)\n",
        "      rewards.append(reward)\n",
        "      if is_done:\n",
        "        returns = []\n",
        "        Gt = 0\n",
        "        pw = 0\n",
        "        for reward in rewards[::-1]:\n",
        "          Gt += gamma ** pw * reward\n",
        "          pw += 1\n",
        "          returns.append(Gt)\n",
        "        returns = returns[::-1]\n",
        "        returns = torch.tensor(returns)\n",
        "        returns = (returns - returns.mean()) / (returns.std() + 1e-9)\n",
        "        estimator.update(returns, log_probs, state_values)\n",
        "        if episode % 20 == 0:\n",
        "          print('Episode: {}, total reward: {}'.format(episode, total_reward_episode[episode]))\n",
        "        if total_reward_episode[episode] >= -14:\n",
        "          estimator.scheduler.step()\n",
        "        break\n",
        "      state = next_state"
      ],
      "metadata": {
        "id": "Iy56KIVhY3e6"
      },
      "execution_count": 4,
      "outputs": []
    },
    {
      "cell_type": "code",
      "source": [
        "n_state = 48\n",
        "n_action = env.action_space.n\n",
        "n_hidden = [128, 32]\n",
        "lr = 0.03\n",
        "policy_net = PolicyNetwork(n_state, n_action, n_hidden, lr)"
      ],
      "metadata": {
        "id": "KC8hLhwLZiRF"
      },
      "execution_count": 5,
      "outputs": []
    },
    {
      "cell_type": "code",
      "source": [
        "gamma = 0.9\n",
        "n_episode = 1000\n",
        "total_reward_episode = [0] * n_episode\n",
        "actor_critic(env, policy_net, n_episode, gamma)"
      ],
      "metadata": {
        "colab": {
          "base_uri": "https://localhost:8080/"
        },
        "id": "DG0ylwy2ZkN9",
        "outputId": "95298b6f-b3c5-4c4a-cae3-bd2dc4959513"
      },
      "execution_count": 6,
      "outputs": [
        {
          "output_type": "stream",
          "name": "stderr",
          "text": [
            "/usr/local/lib/python3.7/dist-packages/ipykernel_launcher.py:17: UserWarning: Using a target size (torch.Size([])) that is different to the input size (torch.Size([1])). This will likely lead to incorrect results due to broadcasting. Please ensure they have the same size.\n"
          ]
        },
        {
          "output_type": "stream",
          "name": "stdout",
          "text": [
            "Episode: 0, total reward: -49251\n",
            "Episode: 20, total reward: -7144\n",
            "Episode: 40, total reward: -4033\n",
            "Episode: 60, total reward: -1874\n",
            "Episode: 80, total reward: -333\n",
            "Episode: 100, total reward: -24\n",
            "Episode: 120, total reward: -18\n",
            "Episode: 140, total reward: -19\n",
            "Episode: 160, total reward: -16\n",
            "Episode: 180, total reward: -15\n",
            "Episode: 200, total reward: -30\n",
            "Episode: 220, total reward: -126\n",
            "Episode: 240, total reward: -17\n",
            "Episode: 260, total reward: -15\n",
            "Episode: 280, total reward: -16\n",
            "Episode: 300, total reward: -15\n",
            "Episode: 320, total reward: -15\n",
            "Episode: 340, total reward: -15\n",
            "Episode: 360, total reward: -20\n",
            "Episode: 380, total reward: -16\n",
            "Episode: 400, total reward: -15\n",
            "Episode: 420, total reward: -16\n",
            "Episode: 440, total reward: -18\n",
            "Episode: 460, total reward: -15\n",
            "Episode: 480, total reward: -19\n",
            "Episode: 500, total reward: -16\n",
            "Episode: 520, total reward: -15\n",
            "Episode: 540, total reward: -16\n",
            "Episode: 560, total reward: -15\n",
            "Episode: 580, total reward: -15\n",
            "Episode: 600, total reward: -16\n",
            "Episode: 620, total reward: -15\n",
            "Episode: 640, total reward: -15\n",
            "Episode: 660, total reward: -15\n",
            "Episode: 680, total reward: -15\n",
            "Episode: 700, total reward: -15\n",
            "Episode: 720, total reward: -18\n",
            "Episode: 740, total reward: -17\n",
            "Episode: 760, total reward: -16\n",
            "Episode: 780, total reward: -16\n",
            "Episode: 800, total reward: -17\n",
            "Episode: 820, total reward: -15\n",
            "Episode: 840, total reward: -15\n",
            "Episode: 860, total reward: -18\n",
            "Episode: 880, total reward: -15\n",
            "Episode: 900, total reward: -15\n",
            "Episode: 920, total reward: -19\n",
            "Episode: 940, total reward: -16\n",
            "Episode: 960, total reward: -21\n",
            "Episode: 980, total reward: -17\n"
          ]
        }
      ]
    },
    {
      "cell_type": "code",
      "source": [
        "import matplotlib.pyplot as plt\n",
        "plt.plot(total_reward_episode)\n",
        "plt.title('Episode reward over time')\n",
        "plt.xlabel('Episode')\n",
        "plt.ylabel('Total reward')\n",
        "plt.show()"
      ],
      "metadata": {
        "colab": {
          "base_uri": "https://localhost:8080/",
          "height": 295
        },
        "id": "xRUcqvKlZpJb",
        "outputId": "ce179911-7c97-4a5a-af14-7092c2084957"
      },
      "execution_count": 7,
      "outputs": [
        {
          "output_type": "display_data",
          "data": {
            "image/png": "[encoded data removed]",
            "text/plain": [
              "<Figure size 432x288 with 1 Axes>"
            ]
          },
          "metadata": {
            "needs_background": "light"
          }
        }
      ]
    }
  ]
}